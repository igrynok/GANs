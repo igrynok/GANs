{
 "cells": [
  {
   "cell_type": "code",
   "execution_count": 1,
   "metadata": {},
   "outputs": [],
   "source": [
    "import torch\n",
    "from torch import nn\n",
    "\n",
    "import math\n",
    "import matplotlib.pyplot as plt"
   ]
  },
  {
   "cell_type": "code",
   "execution_count": 2,
   "metadata": {},
   "outputs": [
    {
     "data": {
      "text/plain": [
       "<torch._C.Generator at 0x7fb58130a7b0>"
      ]
     },
     "execution_count": 2,
     "metadata": {},
     "output_type": "execute_result"
    }
   ],
   "source": [
    "torch.manual_seed(42)"
   ]
  },
  {
   "cell_type": "markdown",
   "metadata": {},
   "source": [
    "### Preparing Training Data"
   ]
  },
  {
   "cell_type": "code",
   "execution_count": 5,
   "metadata": {},
   "outputs": [],
   "source": [
    "training_data_length = 1024\n",
    "train_data_length = 1024\n",
    "train_data = torch.zeros((train_data_length, 2))\n",
    "train_data[:, 0] = 2 * math.pi * torch.rand(train_data_length)\n",
    "train_data[:, 1] = torch.sin(train_data[:, 0])\n",
    "train_labels = torch.zeros(train_data_length)\n",
    "train_set = [(train_data[i], train_labels[i]) for i in range(train_data_length)]"
   ]
  },
  {
   "cell_type": "code",
   "execution_count": 6,
   "metadata": {},
   "outputs": [
    {
     "data": {
      "text/plain": [
       "[<matplotlib.lines.Line2D at 0x7fb550071ee0>]"
      ]
     },
     "execution_count": 6,
     "metadata": {},
     "output_type": "execute_result"
    },
    {
     "data": {
      "image/png": "[encoded data removed]",
      "text/plain": [
       "<Figure size 432x288 with 1 Axes>"
      ]
     },
     "metadata": {
      "needs_background": "light"
     },
     "output_type": "display_data"
    }
   ],
   "source": [
    "plt.plot(train_data[:, 0], train_data[:, 1], \".\")"
   ]
  },
  {
   "cell_type": "code",
   "execution_count": 7,
   "metadata": {},
   "outputs": [],
   "source": [
    "batch_size = 32\n",
    "train_loader = torch.utils.data.DataLoader(train_set, batch_size=batch_size, shuffle=True)"
   ]
  },
  {
   "cell_type": "markdown",
   "metadata": {},
   "source": [
    "### Discriminator"
   ]
  },
  {
   "cell_type": "code",
   "execution_count": 8,
   "metadata": {},
   "outputs": [],
   "source": [
    "class Discriminator(nn.Module):\n",
    "    def __init__(self):\n",
    "        super().__init__()\n",
    "        self.model = nn.Sequential(\n",
    "            nn.Linear(2, 256),\n",
    "            nn.ReLU(),\n",
    "            nn.Dropout(0.3),\n",
    "            nn.Linear(256, 128),\n",
    "            nn.ReLU(),\n",
    "            nn.Dropout(0.3),\n",
    "            nn.Linear(128, 64),\n",
    "            nn.ReLU(),\n",
    "            nn.Dropout(0.3),\n",
    "            nn.Linear(64, 1),\n",
    "            nn.Sigmoid(),\n",
    "        )\n",
    "\n",
    "    def forward(self, x):\n",
    "        output = self.model(x)\n",
    "        return output"
   ]
  },
  {
   "cell_type": "code",
   "execution_count": 9,
   "metadata": {},
   "outputs": [],
   "source": [
    "discriminator = Discriminator()"
   ]
  },
  {
   "cell_type": "markdown",
   "metadata": {},
   "source": [
    "### Generator"
   ]
  },
  {
   "cell_type": "code",
   "execution_count": 10,
   "metadata": {},
   "outputs": [],
   "source": [
    "class Generator(nn.Module):\n",
    "    def __init__(self):\n",
    "        super().__init__()\n",
    "        self.model = nn.Sequential(\n",
    "            nn.Linear(2, 16),\n",
    "            nn.ReLU(),\n",
    "            nn.Linear(16, 32),\n",
    "            nn.ReLU(),\n",
    "            nn.Linear(32, 2),\n",
    "        )\n",
    "\n",
    "    def forward(self, x):\n",
    "        output = self.model(x)\n",
    "        return output"
   ]
  },
  {
   "cell_type": "code",
   "execution_count": 11,
   "metadata": {},
   "outputs": [],
   "source": [
    "generator = Generator()"
   ]
  },
  {
   "cell_type": "markdown",
   "metadata": {},
   "source": [
    "### Training"
   ]
  },
  {
   "cell_type": "code",
   "execution_count": 12,
   "metadata": {},
   "outputs": [],
   "source": [
    "lr = 0.001\n",
    "num_epochs = 300\n",
    "loss_function = nn.BCELoss()"
   ]
  },
  {
   "cell_type": "code",
   "execution_count": 13,
   "metadata": {},
   "outputs": [],
   "source": [
    "optimizer_discriminator = torch.optim.Adam(discriminator.parameters(), lr=lr)\n",
    "optimizer_generator = torch.optim.Adam(generator.parameters(), lr=lr)"
   ]
  },
  {
   "cell_type": "code",
   "execution_count": 14,
   "metadata": {},
   "outputs": [
    {
     "name": "stdout",
     "output_type": "stream",
     "text": [
      "Epoch: 0 Loss D.: 0.12408190965652466\n",
      "Epoch: 0 Loss G.: 2.4710776805877686\n",
      "Epoch: 10 Loss D.: 0.603076159954071\n",
      "Epoch: 10 Loss G.: 0.9722558259963989\n",
      "Epoch: 20 Loss D.: 0.6810697317123413\n",
      "Epoch: 20 Loss G.: 0.9779403805732727\n",
      "Epoch: 30 Loss D.: 0.6485538482666016\n",
      "Epoch: 30 Loss G.: 0.8488448262214661\n",
      "Epoch: 40 Loss D.: 0.6850412487983704\n",
      "Epoch: 40 Loss G.: 0.8908053636550903\n",
      "Epoch: 50 Loss D.: 0.7209122776985168\n",
      "Epoch: 50 Loss G.: 0.7347447276115417\n",
      "Epoch: 60 Loss D.: 0.6934809684753418\n",
      "Epoch: 60 Loss G.: 0.7246147990226746\n",
      "Epoch: 70 Loss D.: 0.6461632251739502\n",
      "Epoch: 70 Loss G.: 0.8498620986938477\n",
      "Epoch: 80 Loss D.: 0.6630169153213501\n",
      "Epoch: 80 Loss G.: 0.7230924367904663\n",
      "Epoch: 90 Loss D.: 0.6681651473045349\n",
      "Epoch: 90 Loss G.: 0.6751986145973206\n",
      "Epoch: 100 Loss D.: 0.5815517902374268\n",
      "Epoch: 100 Loss G.: 0.8912873268127441\n",
      "Epoch: 110 Loss D.: 0.6243754625320435\n",
      "Epoch: 110 Loss G.: 0.9213064908981323\n",
      "Epoch: 120 Loss D.: 0.687585711479187\n",
      "Epoch: 120 Loss G.: 0.7774009108543396\n",
      "Epoch: 130 Loss D.: 0.7815280556678772\n",
      "Epoch: 130 Loss G.: 0.6373209357261658\n",
      "Epoch: 140 Loss D.: 0.694106936454773\n",
      "Epoch: 140 Loss G.: 0.7139008641242981\n",
      "Epoch: 150 Loss D.: 0.6968753933906555\n",
      "Epoch: 150 Loss G.: 0.6785319447517395\n",
      "Epoch: 160 Loss D.: 0.6525333523750305\n",
      "Epoch: 160 Loss G.: 0.769298255443573\n",
      "Epoch: 170 Loss D.: 0.592519223690033\n",
      "Epoch: 170 Loss G.: 0.9257233738899231\n",
      "Epoch: 180 Loss D.: 0.7157185673713684\n",
      "Epoch: 180 Loss G.: 0.6813725233078003\n",
      "Epoch: 190 Loss D.: 0.6806734800338745\n",
      "Epoch: 190 Loss G.: 0.7135612964630127\n",
      "Epoch: 200 Loss D.: 0.5844796299934387\n",
      "Epoch: 200 Loss G.: 0.918748140335083\n",
      "Epoch: 210 Loss D.: 0.5831078290939331\n",
      "Epoch: 210 Loss G.: 1.0137076377868652\n",
      "Epoch: 220 Loss D.: 0.6887227296829224\n",
      "Epoch: 220 Loss G.: 0.7632701992988586\n",
      "Epoch: 230 Loss D.: 0.7171410322189331\n",
      "Epoch: 230 Loss G.: 0.6158975958824158\n",
      "Epoch: 240 Loss D.: 0.6012689471244812\n",
      "Epoch: 240 Loss G.: 0.8443191051483154\n",
      "Epoch: 250 Loss D.: 0.6101629137992859\n",
      "Epoch: 250 Loss G.: 0.8524335622787476\n",
      "Epoch: 260 Loss D.: 0.6887385845184326\n",
      "Epoch: 260 Loss G.: 0.7867276668548584\n",
      "Epoch: 270 Loss D.: 0.6688254475593567\n",
      "Epoch: 270 Loss G.: 0.7492756843566895\n",
      "Epoch: 280 Loss D.: 0.750719428062439\n",
      "Epoch: 280 Loss G.: 0.696732759475708\n",
      "Epoch: 290 Loss D.: 0.7138912677764893\n",
      "Epoch: 290 Loss G.: 0.7562577724456787\n"
     ]
    }
   ],
   "source": [
    "for epoch in range(num_epochs):\n",
    "    for n, (real_samples, _) in enumerate(train_loader):\n",
    "        # Data for training the discriminator\n",
    "        real_samples_labels = torch.ones((batch_size, 1))\n",
    "        latent_space_samples = torch.randn((batch_size, 2))\n",
    "        generated_samples = generator(latent_space_samples)\n",
    "        generated_samples_labels = torch.zeros((batch_size, 1))\n",
    "        all_samples = torch.cat((real_samples, generated_samples))\n",
    "        all_samples_labels = torch.cat((real_samples_labels, generated_samples_labels))\n",
    "\n",
    "        # Training the discriminator\n",
    "        discriminator.zero_grad()\n",
    "        output_discriminator = discriminator(all_samples)\n",
    "        loss_discriminator = loss_function(output_discriminator, all_samples_labels)\n",
    "        loss_discriminator.backward()\n",
    "        optimizer_discriminator.step()\n",
    "\n",
    "        # Data for training the generator\n",
    "        latent_space_samples = torch.randn((batch_size, 2))\n",
    "\n",
    "        # Training the generator\n",
    "        generator.zero_grad()\n",
    "        generated_samples = generator(latent_space_samples)\n",
    "        output_discriminator_generated = discriminator(generated_samples)\n",
    "        loss_generator = loss_function(output_discriminator_generated, real_samples_labels)\n",
    "        loss_generator.backward()\n",
    "        optimizer_generator.step()\n",
    "\n",
    "        # Show loss\n",
    "        if epoch % 10 == 0 and n == batch_size - 1:\n",
    "            print(f\"Epoch: {epoch} Loss D.: {loss_discriminator}\")\n",
    "            print(f\"Epoch: {epoch} Loss G.: {loss_generator}\")"
   ]
  },
  {
   "cell_type": "markdown",
   "metadata": {},
   "source": [
    "### Samples generated by GAN"
   ]
  },
  {
   "cell_type": "code",
   "execution_count": 15,
   "metadata": {},
   "outputs": [
    {
     "data": {
      "text/plain": [
       "[<matplotlib.lines.Line2D at 0x7fb560088b20>]"
      ]
     },
     "execution_count": 15,
     "metadata": {},
     "output_type": "execute_result"
    },
    {
     "data": {
      "image/png": "[encoded data removed]",
      "text/plain": [
       "<Figure size 432x288 with 1 Axes>"
      ]
     },
     "metadata": {
      "needs_background": "light"
     },
     "output_type": "display_data"
    }
   ],
   "source": [
    "generated_samples = generated_samples.detach()\n",
    "plt.plot(generated_samples[:, 0], generated_samples[:, 1], \".\")"
   ]
  },
  {
   "cell_type": "code",
   "execution_count": null,
   "metadata": {},
   "outputs": [],
   "source": []
  }
 ],
 "metadata": {
  "kernelspec": {
   "display_name": "Python 3",
   "language": "python",
   "name": "python3"
  },
  "language_info": {
   "codemirror_mode": {
    "name": "ipython",
    "version": 3
   },
   "file_extension": ".py",
   "mimetype": "text/x-python",
   "name": "python",
   "nbconvert_exporter": "python",
   "pygments_lexer": "ipython3",
   "version": "3.8.5"
  }
 },
 "nbformat": 4,
 "nbformat_minor": 4
}
